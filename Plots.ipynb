{
 "cells": [
  {
   "cell_type": "code",
   "execution_count": null,
   "id": "695de23e",
   "metadata": {},
   "outputs": [],
   "source": [
    "# Import Matplotlib and allow plots to show in the Jupyter Notebook\n",
    "import matplotlib.pyplot as plt\n",
    "%matplotlib inline\n",
    "# Import NumPy and Pandas\n",
    "import numpy as np\n",
    "import pandas as pd\n",
    "# Auto reloads notebook when changes are made\n",
    "%reload_ext autoreload\n",
    "%autoreload 2"
   ]
  },
  {
   "cell_type": "code",
   "execution_count": null,
   "id": "0c0f2815",
   "metadata": {},
   "outputs": [],
   "source": [
    "def preparePercentageString(value, maxValue):\n",
    "    percentage = '{:0.2f}'.format((value/ maxValue) * 100)\n",
    "    return f'{percentage}% ({value})'\n",
    "\n",
    "def draw_companions_impact_plot(file_name):\n",
    "    df = pd.read_csv(file_name)\n",
    "    row_amount = len(df.index)\n",
    "    \n",
    "    alone_and_survived = np.sum((df['Survived'] == 1) & (df['Companions'] == 0))\n",
    "    alone_and_died = np.sum((df['Survived'] == 0) & (df['Companions'] == 0))\n",
    "        \n",
    "    accompanied_and_survived = np.sum((df['Survived'] == 1) & (df['Companions'] > 0))\n",
    "    accompanied_and_died = np.sum((df['Survived'] == 0) & (df['Companions'] > 0))\n",
    "    \n",
    "    died = [alone_and_died, accompanied_and_died]\n",
    "    survived = [alone_and_survived, accompanied_and_survived]\n",
    "    \n",
    "    spc = np.arange(2)\n",
    "    plt.ylabel(\"Amount of people\", fontsize=18)\n",
    "    plt.rcParams[\"figure.figsize\"] = (18,8)\n",
    "    plt.bar(spc, survived, width=0.45, label='Survived', edgecolor='k')\n",
    "    plt.bar(spc + 0.45, died, width=0.45, label='Died', edgecolor='k')\n",
    "    plt.xticks(spc + 0.45/2, ('Alone', 'Accompanied'), fontsize=18)\n",
    "    plt.legend(loc=2, prop={'size': 20})\n",
    "    plt.title('Impact of Companions on Survival', fontsize=20)\n",
    "    \n",
    "    for i in range(len(died)):\n",
    "        plt.annotate(preparePercentageString(died[i],row_amount), xy=(i + 0.45,died[i]), ha='center', va='bottom', fontsize=15)\n",
    "        plt.annotate(preparePercentageString(survived[i],row_amount), xy=(i ,survived[i]), ha='center', va='bottom', fontsize=15)\n",
    "        \n"
   ]
  },
  {
   "cell_type": "code",
   "execution_count": null,
   "id": "c2bde084",
   "metadata": {},
   "outputs": [],
   "source": [
    "draw_companions_impact_plot(\"train_data_results.csv\")"
   ]
  },
  {
   "cell_type": "code",
   "execution_count": null,
   "id": "12b79ed4",
   "metadata": {
    "scrolled": false
   },
   "outputs": [],
   "source": [
    "draw_companions_impact_plot(\"test_data_results.csv\")"
   ]
  },
  {
   "cell_type": "code",
   "execution_count": null,
   "id": "e33304dc",
   "metadata": {},
   "outputs": [],
   "source": [
    "def draw_entry_place_impact_plot(file_name):\n",
    "    df = pd.read_csv(file_name)\n",
    "    row_amount = len(df.index)\n",
    "    cherbourg_and_survived = np.sum((df['Survived'] == 1) & (df['Embarked_C'] == 1))\n",
    "    cherbourg_and_died = np.sum((df['Survived'] == 0) & (df['Embarked_C'] == 1))\n",
    "    \n",
    "    queenstown_and_survived = np.sum((df['Survived'] == 1) & (df['Embarked_Q'] == 1))\n",
    "    queenstown_and_died = np.sum((df['Survived'] == 0) & (df['Embarked_Q'] == 1))\n",
    "    \n",
    "    southampton_and_survived = np.sum((df['Survived'] == 1) & (df['Embarked_S'] == 1))\n",
    "    southampton_and_died = np.sum((df['Survived'] == 0) & (df['Embarked_S'] == 1))\n",
    "    \n",
    "    survived = [cherbourg_and_survived, queenstown_and_survived, southampton_and_survived]    \n",
    "    died = [cherbourg_and_died, queenstown_and_died, southampton_and_died]\n",
    "    \n",
    "    spc = np.arange(3)\n",
    "    plt.ylabel(\"Amount of people\", fontsize=18)\n",
    "    plt.title('Impact of Entry Place on Survival', fontsize=20)\n",
    "\n",
    "    entry_places = ['Cherbourg', 'Queenstown', 'Southampton']\n",
    "    X_Tick_List = []\n",
    "    X_Tick_Label_List=[]\n",
    "    \n",
    "    for ep in range (0,len(entry_places)):\n",
    "        X_Tick_List.append(ep+0.45/2)\n",
    "        X_Tick_Label_List.append(entry_places[ep])\n",
    "    \n",
    "    plt.rcParams[\"figure.figsize\"] = (18,8)\n",
    "    plt.bar(spc, survived, width=0.45, label='Survived', edgecolor='k')\n",
    "    plt.bar(spc + 0.45, died, width=0.45, label='Died', edgecolor='k')\n",
    "    plt.xticks(X_Tick_List, X_Tick_Label_List, fontsize=18)\n",
    "    plt.legend(loc=2, prop={'size': 20})\n",
    "    \n",
    "    for i in range(len(died)):\n",
    "        plt.annotate(preparePercentageString(died[i], row_amount), xy=(i + 0.45,died[i]), ha='center', va='bottom', fontsize=15)\n",
    "        plt.annotate(preparePercentageString(survived[i], row_amount), xy=(i ,survived[i]), ha='center', va='bottom', fontsize=15)\n"
   ]
  },
  {
   "cell_type": "code",
   "execution_count": null,
   "id": "dc1207a9",
   "metadata": {
    "scrolled": false
   },
   "outputs": [],
   "source": [
    "draw_entry_place_impact_plot(\"test_data_results.csv\")"
   ]
  },
  {
   "cell_type": "code",
   "execution_count": null,
   "id": "ff8e95bd",
   "metadata": {
    "scrolled": false
   },
   "outputs": [],
   "source": [
    "draw_entry_place_impact_plot(\"train_data_results.csv\")"
   ]
  },
  {
   "cell_type": "code",
   "execution_count": null,
   "id": "5d2314f0",
   "metadata": {},
   "outputs": [],
   "source": [
    "def draw_fare_impact_plot(file_name):\n",
    "    df = pd.read_csv(file_name)\n",
    "    \n",
    "    plt.scatter(df['Fare'], df['Survived'], marker='o')"
   ]
  },
  {
   "cell_type": "code",
   "execution_count": null,
   "id": "1918749d",
   "metadata": {},
   "outputs": [],
   "source": [
    "draw_fare_impact_plot(\"train_data_results.csv\")"
   ]
  },
  {
   "cell_type": "code",
   "execution_count": null,
   "id": "6502be09",
   "metadata": {},
   "outputs": [],
   "source": [
    "draw_fare_impact_plot(\"test_data_results.csv\")"
   ]
  },
  {
   "cell_type": "code",
   "execution_count": null,
   "id": "b89fae6d",
   "metadata": {},
   "outputs": [],
   "source": [
    "def draw_class_impact_plot(file_name):\n",
    "    df = pd.read_csv(file_name)\n",
    "    row_amount = len(df.index)\n",
    "    one_and_survived = np.sum((df['Survived'] == 1) & (df['Pclass'] == 1))\n",
    "    one_and_died = np.sum((df['Survived'] == 0) & (df['Pclass'] == 1))\n",
    "    \n",
    "    two_and_survived = np.sum((df['Survived'] == 1) & (df['Pclass'] == 2))\n",
    "    two_and_died = np.sum((df['Survived'] == 0) & (df['Pclass'] == 2))\n",
    "    \n",
    "    three_and_survived = np.sum((df['Survived'] == 1) & (df['Pclass'] == 3))\n",
    "    three_and_died = np.sum((df['Survived'] == 0) & (df['Pclass'] == 3))\n",
    "    \n",
    "    survived = [one_and_survived, two_and_survived, three_and_survived]    \n",
    "    died = [one_and_died, two_and_died, three_and_died]\n",
    "    \n",
    "    spc = np.arange(3)\n",
    "    plt.ylabel(\"Amount of people\", fontsize=18)\n",
    "    plt.title('Impact of Class on Survival', fontsize=20)\n",
    "\n",
    "    classes = ['First(Upper)', 'Second(Middle)', 'Third(Lower)']\n",
    "    X_Tick_List = []\n",
    "    X_Tick_Label_List=[]\n",
    "    \n",
    "    for c in range (0,len(classes)):\n",
    "        X_Tick_List.append(c+0.45/2)\n",
    "        X_Tick_Label_List.append(classes[c])\n",
    "    \n",
    "    plt.rcParams[\"figure.figsize\"] = (18,8)\n",
    "    plt.bar(spc, survived, width=0.45, label='Survived', edgecolor='k')\n",
    "    plt.bar(spc + 0.45, died, width=0.45, label='Died', edgecolor='k')\n",
    "    plt.xticks(X_Tick_List, X_Tick_Label_List, fontsize=18)\n",
    "    plt.legend(loc=2, prop={'size': 20})\n",
    "    \n",
    "    for i in range(len(died)):\n",
    "        plt.annotate(preparePercentageString(died[i], row_amount), xy=(i + 0.45,died[i]), ha='center', va='bottom', fontsize=15)\n",
    "        plt.annotate(preparePercentageString(survived[i], row_amount), xy=(i ,survived[i]), ha='center', va='bottom', fontsize=15)\n"
   ]
  },
  {
   "cell_type": "code",
   "execution_count": null,
   "id": "50ec1b19",
   "metadata": {
    "scrolled": true
   },
   "outputs": [],
   "source": [
    "draw_class_impact_plot(\"test_data_results.csv\")"
   ]
  },
  {
   "cell_type": "code",
   "execution_count": null,
   "id": "740e171a",
   "metadata": {},
   "outputs": [],
   "source": [
    "draw_class_impact_plot(\"train_data_results.csv\")"
   ]
  }
 ],
 "metadata": {
  "kernelspec": {
   "display_name": "Python 3 (ipykernel)",
   "language": "python",
   "name": "python3"
  },
  "language_info": {
   "codemirror_mode": {
    "name": "ipython",
    "version": 3
   },
   "file_extension": ".py",
   "mimetype": "text/x-python",
   "name": "python",
   "nbconvert_exporter": "python",
   "pygments_lexer": "ipython3",
   "version": "3.9.12"
  }
 },
 "nbformat": 4,
 "nbformat_minor": 5
}
