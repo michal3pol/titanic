{
 "cells": [
  {
   "cell_type": "code",
   "execution_count": null,
   "id": "695de23e",
   "metadata": {},
   "outputs": [],
   "source": [
    "# Import Matplotlib and allow plots to show in the Jupyter Notebook\n",
    "import matplotlib.pyplot as plt\n",
    "%matplotlib inline\n",
    "# Import NumPy and Pandas\n",
    "import numpy as np\n",
    "import pandas as pd\n",
    "import seaborn as sns\n",
    "# Auto reloads notebook when changes are made\n",
    "%reload_ext autoreload\n",
    "%autoreload 2"
   ]
  },
  {
   "cell_type": "code",
   "execution_count": null,
   "id": "0c0f2815",
   "metadata": {},
   "outputs": [],
   "source": [
    "def preparePercentageString(value, maxValue):\n",
    "    percentage = '{:0.2f}'.format((value/ maxValue) * 100)\n",
    "    return f'{percentage}% ({value})'\n",
    "\n",
    "def draw_companions_impact_plot(file_name):\n",
    "    df = pd.read_csv(file_name)\n",
    "    row_amount = len(df.index)\n",
    "    \n",
    "    alone_and_survived = np.sum((df['Survived'] == 1) & (df['Companions'] == 0))\n",
    "    alone_and_died = np.sum((df['Survived'] == 0) & (df['Companions'] == 0))\n",
    "    \n",
    "    accompanied_and_survived = np.sum((df['Survived'] == 1) & (df['Companions'] > 0))\n",
    "    accompanied_and_died = np.sum((df['Survived'] == 0) & (df['Companions'] > 0))\n",
    "    \n",
    "    died = [alone_and_died, accompanied_and_died]\n",
    "    survived = [alone_and_survived, accompanied_and_survived]\n",
    "    \n",
    "    spc = np.arange(2)\n",
    "    plt.ylabel(\"Amount of people\", fontsize=18)\n",
    "    plt.rcParams[\"figure.figsize\"] = (18,8)\n",
    "    plt.bar(spc, survived, width=0.45, label='Survived', edgecolor='k')\n",
    "    plt.bar(spc + 0.45, died, width=0.45, label='Died', edgecolor='k')\n",
    "    plt.xticks(spc + 0.45/2, ( 'Alone', 'Accompanied'), fontsize=18)\n",
    "    plt.legend(loc=2, prop={'size': 20})\n",
    "    plt.title('Impact of Companions on Survival', fontsize=20)\n",
    "    \n",
    "    for i in range(len(died)):\n",
    "        plt.annotate(preparePercentageString(died[i],row_amount), xy=(i + 0.45,died[i]), ha='center', va='bottom', fontsize=15)\n",
    "        plt.annotate(preparePercentageString(survived[i],row_amount), xy=(i ,survived[i]), ha='center', va='bottom', fontsize=15)\n",
    "        "
   ]
  },
  {
   "cell_type": "code",
   "execution_count": null,
   "id": "c2bde084",
   "metadata": {},
   "outputs": [],
   "source": [
    "draw_companions_impact_plot(\"train_data_results.csv\")"
   ]
  },
  {
   "cell_type": "code",
   "execution_count": null,
   "id": "12b79ed4",
   "metadata": {
    "scrolled": false
   },
   "outputs": [],
   "source": [
    "draw_companions_impact_plot(\"test_data_results.csv\")"
   ]
  },
  {
   "cell_type": "code",
   "execution_count": null,
   "id": "e33304dc",
   "metadata": {},
   "outputs": [],
   "source": [
    "def draw_entry_place_impact_plot(file_name):\n",
    "    df = pd.read_csv(file_name)\n",
    "    row_amount = len(df.index)\n",
    "    \n",
    "    cherbourg_and_survived = np.sum((df['Survived'] == 1) & (df['Embarked_C'] == 1))\n",
    "    cherbourg_and_died = np.sum((df['Survived'] == 0) & (df['Embarked_C'] == 1))\n",
    "        \n",
    "    queenstown_and_survived = np.sum((df['Survived'] == 1) & (df['Embarked_Q'] == 1))\n",
    "    queenstown_and_died = np.sum((df['Survived'] == 0) & (df['Embarked_Q'] == 1))\n",
    "    \n",
    "    southampton_and_survived = np.sum((df['Survived'] == 1) & (df['Embarked_S'] == 1))\n",
    "    southampton_and_died = np.sum((df['Survived'] == 0) & (df['Embarked_S'] == 1))\n",
    "    \n",
    "    survived = [cherbourg_and_survived, queenstown_and_survived, southampton_and_survived]    \n",
    "    died = [cherbourg_and_died, queenstown_and_died, southampton_and_died]\n",
    "    \n",
    "    spc = np.arange(3)\n",
    "    plt.ylabel(\"Amount of people\", fontsize=18)\n",
    "    plt.title('Impact of Entry Place on Survival', fontsize=20)\n",
    "\n",
    "    entry_places = ['Cherbourg', 'Queenstown', 'Southampton']\n",
    "    X_Tick_List = []\n",
    "    X_Tick_Label_List=[]\n",
    "    \n",
    "    for ep in range (0,len(entry_places)):\n",
    "        X_Tick_List.append(ep+0.45/2)\n",
    "        X_Tick_Label_List.append(entry_places[ep])\n",
    "    \n",
    "    plt.rcParams[\"figure.figsize\"] = (18,8)\n",
    "    plt.bar(spc, survived, width=0.45, label='Survived', edgecolor='k')\n",
    "    plt.bar(spc + 0.45, died, width=0.45, label='Died', edgecolor='k')\n",
    "    plt.xticks(X_Tick_List, X_Tick_Label_List, fontsize=18)\n",
    "    plt.legend(loc=2, prop={'size': 20})\n",
    "    \n",
    "    for i in range(len(died)):\n",
    "        plt.annotate(preparePercentageString(died[i], row_amount), xy=(i + 0.45,died[i]), ha='center', va='bottom', fontsize=15)\n",
    "        plt.annotate(preparePercentageString(survived[i], row_amount), xy=(i ,survived[i]), ha='center', va='bottom', fontsize=15)\n"
   ]
  },
  {
   "cell_type": "code",
   "execution_count": null,
   "id": "ff8e95bd",
   "metadata": {
    "scrolled": false
   },
   "outputs": [],
   "source": [
    "draw_entry_place_impact_plot(\"train_data_results.csv\")"
   ]
  },
  {
   "cell_type": "code",
   "execution_count": null,
   "id": "dc1207a9",
   "metadata": {
    "scrolled": false
   },
   "outputs": [],
   "source": [
    "draw_entry_place_impact_plot(\"test_data_results.csv\")"
   ]
  },
  {
   "cell_type": "code",
   "execution_count": null,
   "id": "6d753a0d",
   "metadata": {},
   "outputs": [],
   "source": [
    "def draw_class_impact_plot(file_name):\n",
    "    df = pd.read_csv(file_name)\n",
    "    row_amount = len(df.index)\n",
    "    \n",
    "    one_and_survived = np.sum((df['Survived'] == 1) & (df['Pclass'] == 1))\n",
    "    one_and_died = np.sum((df['Survived'] == 0) & (df['Pclass'] == 1))\n",
    "     \n",
    "    two_and_survived = np.sum((df['Survived'] == 1) & (df['Pclass'] == 2))\n",
    "    two_and_died = np.sum((df['Survived'] == 0) & (df['Pclass'] == 2))\n",
    "     \n",
    "    three_and_survived = np.sum((df['Survived'] == 1) & (df['Pclass'] == 3))\n",
    "    three_and_died = np.sum((df['Survived'] == 0) & (df['Pclass'] == 3))\n",
    "    \n",
    "    survived = [one_and_survived, two_and_survived, three_and_survived]    \n",
    "    died = [one_and_died, two_and_died, three_and_died]\n",
    "    \n",
    "    spc = np.arange(3)\n",
    "    plt.ylabel(\"Amount of people\", fontsize=18)\n",
    "    plt.title('Impact of Class on Survival', fontsize=20)\n",
    "\n",
    "    classes = ['First(Upper)', 'Second(Middle)', 'Third(Lower)']\n",
    "    X_Tick_List = []\n",
    "    X_Tick_Label_List=[]\n",
    "    \n",
    "    for c in range (0,len(classes)):\n",
    "        X_Tick_List.append(c+0.45/2)\n",
    "        X_Tick_Label_List.append(classes[c])\n",
    "    \n",
    "    plt.rcParams[\"figure.figsize\"] = (18,8)\n",
    "    plt.bar(spc, survived, width=0.45, label='Survived', edgecolor='k')\n",
    "    plt.bar(spc + 0.45, died, width=0.45, label='Died', edgecolor='k')\n",
    "    plt.xticks(X_Tick_List, X_Tick_Label_List, fontsize=18)\n",
    "    plt.legend(loc=2, prop={'size': 20})\n",
    "    \n",
    "    for i in range(len(died)):\n",
    "        plt.annotate(preparePercentageString(died[i], row_amount), xy=(i + 0.45,died[i]), ha='center', va='bottom', fontsize=15)\n",
    "        plt.annotate(preparePercentageString(survived[i], row_amount), xy=(i ,survived[i]), ha='center', va='bottom', fontsize=15)\n"
   ]
  },
  {
   "cell_type": "code",
   "execution_count": null,
   "id": "21a52c25",
   "metadata": {},
   "outputs": [],
   "source": [
    "draw_class_impact_plot(\"train_data_results.csv\")"
   ]
  },
  {
   "cell_type": "code",
   "execution_count": null,
   "id": "d060c6f4",
   "metadata": {
    "scrolled": false
   },
   "outputs": [],
   "source": [
    "draw_class_impact_plot(\"test_data_results.csv\")"
   ]
  },
  {
   "cell_type": "code",
   "execution_count": null,
   "id": "d5228817",
   "metadata": {},
   "outputs": [],
   "source": [
    "def draw_sex_impact_plot(file_name):\n",
    "    df = pd.read_csv(file_name)\n",
    "    row_amount = len(df.index)\n",
    "    \n",
    "    men_survived= np.sum((df['Survived'] == 1) & (df['Male'] == 1)) \n",
    "    men_died = np.sum((df['Survived'] == 0) & (df['Male'] == 1))\n",
    "       \n",
    "    women_survived = np.sum((df['Survived'] == 1) & (df['Female'] == 1))\n",
    "    women_died = np.sum((df['Survived'] == 0) & (df['Female'] == 1))\n",
    "    \n",
    "    died = [men_died, women_died]\n",
    "    survived = [men_survived, women_survived]\n",
    "    \n",
    "    spc = np.arange(2)\n",
    "    plt.ylabel(\"Amount of people\", fontsize=18)\n",
    "    plt.rcParams[\"figure.figsize\"] = (18,8)\n",
    "    plt.bar(spc, survived, width=0.45, label='Survived', edgecolor='k')\n",
    "    plt.bar(spc + 0.45, died, width=0.45, label='Died', edgecolor='k')\n",
    "    plt.xticks(spc + 0.45/2, ('Men', 'Women'), fontsize=18)\n",
    "    plt.legend(loc=2, prop={'size': 20})\n",
    "    plt.title('Impact of Sex on Survival', fontsize=20)\n",
    "    \n",
    "    for i in range(len(died)):\n",
    "        plt.annotate(preparePercentageString(died[i],row_amount), xy=(i + 0.45,died[i]), ha='center', va='bottom', fontsize=15)\n",
    "        plt.annotate(preparePercentageString(survived[i],row_amount), xy=(i ,survived[i]), ha='center', va='bottom', fontsize=15)\n",
    "        "
   ]
  },
  {
   "cell_type": "code",
   "execution_count": null,
   "id": "23d40e31",
   "metadata": {
    "scrolled": false
   },
   "outputs": [],
   "source": [
    "draw_sex_impact_plot(\"train_data_results.csv\")"
   ]
  },
  {
   "cell_type": "code",
   "execution_count": null,
   "id": "e7c8b540",
   "metadata": {},
   "outputs": [],
   "source": [
    "draw_sex_impact_plot(\"test_data_results.csv\")"
   ]
  },
  {
   "cell_type": "code",
   "execution_count": null,
   "id": "6b8634ab",
   "metadata": {},
   "outputs": [],
   "source": [
    "def draw_age_impact_plot(file_name):\n",
    "    df = pd.read_csv(file_name)\n",
    "    row_amount = len(df.index)\n",
    "    \n",
    "    minors_and_survived = np.sum((df['Survived'] == 1) & (df['Age'] >= 0) & (df['Age'] < 18))\n",
    "    minors_and_died = np.sum((df['Survived'] == 0) & (df['Age'] >= 0) & (df['Age'] < 18))\n",
    "    \n",
    "    before_thirties_and_survived = np.sum((df['Survived'] == 1) & (df['Age'] >= 18) & (df['Age'] < 30))\n",
    "    before_thirties_and_died = np.sum((df['Survived'] == 0) & (df['Age'] >= 18) & (df['Age'] < 30))\n",
    "    \n",
    "    before_forties_and_survived = np.sum((df['Survived'] == 1) & (df['Age'] >= 30) & (df['Age'] <40))\n",
    "    before_forties_and_died = np.sum((df['Survived'] == 0) & (df['Age'] >= 30) & (df['Age'] <40))\n",
    "    \n",
    "    before_fifties_and_survived = np.sum((df['Survived'] == 1) & (df['Age'] >= 40) & (df['Age'] < 50))\n",
    "    before_fifties_and_died = np.sum((df['Survived'] == 0) & (df['Age'] >= 40) & (df['Age'] < 50))\n",
    "    \n",
    "    before_sixties_and_survived = np.sum((df['Survived'] == 1) & (df['Age'] >= 50) & (df['Age'] < 60))\n",
    "    before_sixties_and_died = np.sum((df['Survived'] == 0) & (df['Age'] >= 50) & (df['Age'] < 60))\n",
    "    \n",
    "    older_and_survived = np.sum((df['Survived'] == 1) & (df['Age'] >= 60))\n",
    "    older_and_died = np.sum((df['Survived'] == 0) & (df['Age'] >= 60))\n",
    "    \n",
    "    survived = [minors_and_survived, before_thirties_and_survived, before_forties_and_survived,before_fifties_and_survived,before_sixties_and_survived, older_and_survived]\n",
    "    died = [minors_and_died,before_thirties_and_died, before_forties_and_died,before_fifties_and_died,before_sixties_and_died,older_and_died]\n",
    "    \n",
    "    spc = np.arange(6)\n",
    "    plt.ylabel(\"Amount of people\", fontsize=18)\n",
    "    plt.title('Impact of Age on Survival', fontsize=20)\n",
    "\n",
    "    age_ranges = ['0-17', '18-29', '30-39', '40-49', '50-59', '60+']\n",
    "    X_Tick_List = []\n",
    "    X_Tick_Label_List=[]\n",
    "    \n",
    "    for ar in range (0,len(age_ranges)):\n",
    "        X_Tick_List.append(ar+0.48/2)\n",
    "        X_Tick_Label_List.append(age_ranges[ar])\n",
    "    \n",
    "    plt.rcParams[\"figure.figsize\"] = (18,8)\n",
    "    plt.bar(spc, survived, width=0.48, label='Survived', edgecolor='k')\n",
    "    plt.bar(spc + 0.48, died, width=0.48, label='Died', edgecolor='k')\n",
    "    plt.xticks(X_Tick_List, X_Tick_Label_List, fontsize=18)\n",
    "    plt.legend(loc=2, prop={'size': 20})\n",
    "    \n",
    "    for i in range(len(died)):\n",
    "        plt.annotate(preparePercentageString(died[i],row_amount), xy=(i + 0.48,died[i]), ha='center', va='bottom', fontsize=13)\n",
    "        plt.annotate(preparePercentageString(survived[i],row_amount), xy=(i ,survived[i]), ha='center', va='bottom', fontsize=13)\n",
    "        \n",
    "    \n",
    "    "
   ]
  },
  {
   "cell_type": "code",
   "execution_count": null,
   "id": "152598fa",
   "metadata": {},
   "outputs": [],
   "source": [
    "draw_age_impact_plot(\"train_data_results.csv\")"
   ]
  },
  {
   "cell_type": "code",
   "execution_count": null,
   "id": "8b144235",
   "metadata": {},
   "outputs": [],
   "source": [
    "draw_age_impact_plot(\"test_data_results.csv\")"
   ]
  },
  {
   "cell_type": "code",
   "execution_count": null,
   "id": "dc4273a3",
   "metadata": {},
   "outputs": [],
   "source": [
    "def draw_fare_impact_plot(file_name):\n",
    "    df = pd.read_csv(file_name)\n",
    "    row_amount = len(df.index)\n",
    "    \n",
    "    under50_and_survived = np.sum((df['Survived'] == 1) & (df['Fare_(0, 50]'] ==1))\n",
    "    under50_and_died = np.sum((df['Survived'] == 0) & (df['Fare_(0, 50]'] ==1))\n",
    "   \n",
    "    under100_and_survived = np.sum((df['Survived'] == 1) & (df['Fare_(50, 100]'] ==1))\n",
    "    under100_and_died = np.sum((df['Survived'] == 0) & (df['Fare_(50, 100]'] ==1))  \n",
    "    \n",
    "    under200_and_survived = np.sum((df['Survived'] == 1) & (df['Fare_(100, 200]'] ==1))\n",
    "    under200_and_died = np.sum((df['Survived'] == 0) & (df['Fare_(100, 200]'] ==1))\n",
    "    \n",
    "    under500_and_survived = np.sum((df['Survived'] == 1) & (df['Fare_(200, 500]'] ==1))\n",
    "    under500_and_died = np.sum((df['Survived'] == 0) & (df['Fare_(200, 500]'] ==1))\n",
    "    \n",
    "    under1000_and_survived = np.sum((df['Survived'] == 1) & (df['Fare_(500, 1000]'] ==1))\n",
    "    under1000_and_died = np.sum((df['Survived'] == 0) & (df['Fare_(500, 1000]'] ==1))\n",
    "    \n",
    "    survived = [under50_and_survived, under100_and_survived, under200_and_survived, under500_and_survived, under1000_and_survived]\n",
    "    died =[under50_and_died, under100_and_died, under200_and_died, under500_and_died, under1000_and_died]\n",
    "    \n",
    "    spc = np.arange(5)\n",
    "    plt.ylabel(\"Amount of people\", fontsize=18)\n",
    "    plt.title('Impact of Fare on Survival', fontsize=20)\n",
    "\n",
    "    fare_ranges = ['(0-50]', '(50-100]', '(100-200]', '(200-500]', '[500-1000)']\n",
    "    X_Tick_List = []\n",
    "    X_Tick_Label_List=[]\n",
    "    \n",
    "    for ar in range (0,len(fare_ranges)):\n",
    "        X_Tick_List.append(ar+0.45/2)\n",
    "        X_Tick_Label_List.append(fare_ranges[ar])\n",
    "    \n",
    "    plt.rcParams[\"figure.figsize\"] = (18,8)\n",
    "    plt.bar(spc, survived, width=0.45, label='Survived', edgecolor='k')\n",
    "    plt.bar(spc + 0.45, died, width=0.45, label='Died', edgecolor='k')\n",
    "    plt.xticks(X_Tick_List, X_Tick_Label_List, fontsize=18)\n",
    "    plt.legend(loc=1, prop={'size': 20})\n",
    "    \n",
    "    for i in range(len(died)):\n",
    "        plt.annotate(preparePercentageString(died[i],row_amount), xy=(i + 0.45,died[i]), ha='center', va='bottom', fontsize=13)\n",
    "        plt.annotate(preparePercentageString(survived[i],row_amount), xy=(i ,survived[i]), ha='center', va='bottom', fontsize=13)\n",
    "    \n",
    "    "
   ]
  },
  {
   "cell_type": "code",
   "execution_count": null,
   "id": "19115775",
   "metadata": {},
   "outputs": [],
   "source": [
    "draw_fare_impact_plot(\"train_data_results.csv\")"
   ]
  },
  {
   "cell_type": "code",
   "execution_count": null,
   "id": "4f242a0f",
   "metadata": {},
   "outputs": [],
   "source": [
    "draw_fare_impact_plot(\"test_data_results.csv\")"
   ]
  },
  {
   "cell_type": "code",
   "execution_count": null,
   "id": "0a21c1b5",
   "metadata": {},
   "outputs": [],
   "source": [
    "def draw_heatmap(file_name):\n",
    "    df = pd.read_csv(file_name)\n",
    "    tempDf = pd.DataFrame()\n",
    "    tempDf['Survived'] = df['Survived']\n",
    "    tempDf['Pclass'] = df['Pclass']\n",
    "    tempDf['Age'] = df['Age']\n",
    "    tempDf['Companions'] = df['Companions']\n",
    "    tempDf['Female'] = df['Female']\n",
    "    tempDf['Male'] = df['Male']\n",
    "    tempDf['Embarked_C'] = df['Embarked_C']\n",
    "    tempDf['Embarked_Q'] = df['Embarked_Q']\n",
    "    tempDf['Embarked_S'] = df['Embarked_S']\n",
    "    tempDf['Fare_(0,50]'] = df['Fare_(0, 50]']\n",
    "    tempDf['Fare_(50,100]'] = df['Fare_(50, 100]']\n",
    "    tempDf['Fare_(100,200]'] = df['Fare_(100, 200]']\n",
    "    tempDf['Fare_(200,500]'] = df['Fare_(200, 500]']\n",
    "    tempDf['Fare_(500,1000]'] = df['Fare_(500, 1000]']\n",
    "    plt.rcParams[\"figure.figsize\"] = (18,8)\n",
    "    sns.heatmap(tempDf.corr(), cmap='YlGnBu')"
   ]
  },
  {
   "cell_type": "code",
   "execution_count": null,
   "id": "e10244cc",
   "metadata": {},
   "outputs": [],
   "source": [
    "draw_heatmap(\"train_data_results.csv\")"
   ]
  },
  {
   "cell_type": "code",
   "execution_count": null,
   "id": "67dea321",
   "metadata": {},
   "outputs": [],
   "source": [
    "draw_heatmap(\"test_data_results.csv\")"
   ]
  },
  {
   "cell_type": "code",
   "execution_count": null,
   "id": "8104e4f0",
   "metadata": {},
   "outputs": [],
   "source": [
    "def draw_class_and_entry_place_plot(file_name):\n",
    "    df = pd.read_csv(file_name)\n",
    "    row_amount = len(df.index)\n",
    "    \n",
    "    cherbourg_and_first_class = np.sum((df['Pclass'] == 1) & (df['Embarked_C'] == 1))\n",
    "    cherbourg_and_second_class = np.sum((df['Pclass'] == 2) & (df['Embarked_C'] == 1))\n",
    "    cherbourg_and_third_class = np.sum((df['Pclass'] == 3) & (df['Embarked_C'] == 1))\n",
    "    \n",
    "    queenstown_and_first_class = np.sum((df['Pclass'] == 1) & (df['Embarked_Q'] == 1))\n",
    "    queenstown_and_second_class = np.sum((df['Pclass'] == 2) & (df['Embarked_Q'] == 1))\n",
    "    queenstown_and_third_class = np.sum((df['Pclass'] == 3) & (df['Embarked_Q'] == 1))\n",
    "    \n",
    "    southampton_and_first_class = np.sum((df['Pclass'] == 1) & (df['Embarked_S'] == 1))\n",
    "    southampton_and_second_class = np.sum((df['Pclass'] == 2) & (df['Embarked_S'] == 1))\n",
    "    southampton_and_third_class = np.sum((df['Pclass'] == 3) & (df['Embarked_S'] == 1))\n",
    "       \n",
    "    first_class = [cherbourg_and_first_class, queenstown_and_first_class, southampton_and_first_class]\n",
    "    second_class = [cherbourg_and_second_class,queenstown_and_second_class ,southampton_and_second_class]\n",
    "    third_class = [cherbourg_and_third_class, queenstown_and_third_class, southampton_and_third_class]\n",
    "    \n",
    "    X_Tick_List = []\n",
    "    X_Tick_Label_List=[]\n",
    "    \n",
    "    entry_places = ['Cherbourhg', 'Queenstown', 'Southampton']\n",
    "    \n",
    "    for ep in range (0,len(entry_places)):\n",
    "        X_Tick_List.append(ep+0.30/2)\n",
    "        X_Tick_Label_List.append(entry_places[ep])\n",
    "    \n",
    "    spc = np.arange(3)\n",
    "    plt.ylabel(\"Amount of people\", fontsize=18)\n",
    "    plt.title('Correlation between Entry point and Class', fontsize=20)\n",
    "    \n",
    "    plt.rcParams[\"figure.figsize\"] = (18,8)\n",
    "    plt.bar(spc, first_class, width=0.30, label='First class(Upper)', edgecolor='k')\n",
    "    plt.bar(spc + 0.30, second_class, width=0.30, label='Second class(Middle)', edgecolor='k')\n",
    "    plt.bar(spc + 0.60, third_class, width=0.30, label='Third class(Lower)', edgecolor='k')\n",
    "    plt.xticks(X_Tick_List, X_Tick_Label_List, fontsize=18)\n",
    "    plt.legend(loc=2, prop={'size': 20})\n",
    "    \n",
    "    for i in range(len(first_class)):\n",
    "        plt.annotate(preparePercentageString(first_class[i],row_amount), xy=(i,first_class[i]), ha='center', va='bottom', fontsize=13)\n",
    "        plt.annotate(preparePercentageString(second_class[i],row_amount), xy=(i+0.30,second_class[i]), ha='center', va='bottom', fontsize=13)\n",
    "        plt.annotate(preparePercentageString(third_class[i],row_amount), xy=(i+0.60 ,third_class[i]), ha='center', va='bottom', fontsize=13)        "
   ]
  },
  {
   "cell_type": "code",
   "execution_count": null,
   "id": "3d34448d",
   "metadata": {},
   "outputs": [],
   "source": [
    "draw_class_and_entry_place_plot(\"train_data_results.csv\")"
   ]
  },
  {
   "cell_type": "code",
   "execution_count": null,
   "id": "d5809a6b",
   "metadata": {},
   "outputs": [],
   "source": [
    "draw_class_and_entry_place_plot(\"test_data_results.csv\")"
   ]
  },
  {
   "cell_type": "code",
   "execution_count": null,
   "id": "d83523ba",
   "metadata": {},
   "outputs": [],
   "source": [
    "def draw_class_and_sex_plot(file_name):\n",
    "    df = pd.read_csv(file_name)\n",
    "    row_amount = len(df.index)\n",
    "    \n",
    "    cherbourg_and_women = np.sum((df['Female'] == 1) & (df['Embarked_Q'] == 1))\n",
    "    cherbourg_and_men = np.sum((df['Male'] == 1) & (df['Embarked_Q'] == 1))\n",
    "    \n",
    "    queenstown_and_women = np.sum((df['Female'] == 1) & (df['Embarked_Q'] == 1))\n",
    "    queenstown_and_men = np.sum((df['Male'] == 1) & (df['Embarked_Q'] == 1))\n",
    "    \n",
    "    southampton_and_women = np.sum((df['Female'] == 1) & (df['Embarked_S'] == 1))\n",
    "    southampton_and_men = np.sum((df['Male'] == 1) & (df['Embarked_S'] == 1))\n",
    "       \n",
    "    women = [cherbourg_and_women, queenstown_and_women, southampton_and_women]\n",
    "    men = [cherbourg_and_men,queenstown_and_men ,southampton_and_men]\n",
    "    \n",
    "    X_Tick_List = []\n",
    "    X_Tick_Label_List=[]\n",
    "    \n",
    "    entry_places = ['Cherbourhg', 'Queenstown', 'Southampton']\n",
    "    \n",
    "    for ep in range (0,len(entry_places)):\n",
    "        X_Tick_List.append(ep+0.45/2)\n",
    "        X_Tick_Label_List.append(entry_places[ep])\n",
    "    \n",
    "    spc = np.arange(3)\n",
    "    plt.ylabel(\"Amount of people\", fontsize=18)\n",
    "    plt.title('Correlation between Entry point and Sex', fontsize=20)\n",
    "    \n",
    "    plt.rcParams[\"figure.figsize\"] = (18,8)\n",
    "    plt.bar(spc, women, width=0.45, label='Women', edgecolor='k')\n",
    "    plt.bar(spc + 0.45, men, width=0.45, label='Men', edgecolor='k')\n",
    "    plt.xticks(X_Tick_List, X_Tick_Label_List, fontsize=18)\n",
    "    plt.legend(loc=2, prop={'size': 20})\n",
    "    \n",
    "    for i in range(len(women)):\n",
    "        plt.annotate(preparePercentageString(women[i],row_amount), xy=(i,women[i]), ha='center', va='bottom', fontsize=13)\n",
    "        plt.annotate(preparePercentageString(men[i],row_amount), xy=(i+0.45,men[i]), ha='center', va='bottom', fontsize=13)\n"
   ]
  },
  {
   "cell_type": "code",
   "execution_count": null,
   "id": "37c68ef8",
   "metadata": {},
   "outputs": [],
   "source": [
    "draw_class_and_sex_plot(\"train_data_results.csv\")"
   ]
  },
  {
   "cell_type": "code",
   "execution_count": null,
   "id": "5c7d843f",
   "metadata": {},
   "outputs": [],
   "source": [
    "draw_class_and_sex_plot(\"test_data_results.csv\")"
   ]
  },
  {
   "cell_type": "code",
   "execution_count": null,
   "id": "3e203544",
   "metadata": {},
   "outputs": [],
   "source": []
  }
 ],
 "metadata": {
  "kernelspec": {
   "display_name": "Python 3 (ipykernel)",
   "language": "python",
   "name": "python3"
  },
  "language_info": {
   "codemirror_mode": {
    "name": "ipython",
    "version": 3
   },
   "file_extension": ".py",
   "mimetype": "text/x-python",
   "name": "python",
   "nbconvert_exporter": "python",
   "pygments_lexer": "ipython3",
   "version": "3.9.12"
  }
 },
 "nbformat": 4,
 "nbformat_minor": 5
}
