{
 "cells": [
  {
   "cell_type": "code",
   "execution_count": null,
   "metadata": {},
   "outputs": [],
   "source": [
    "# Import Matplotlib and allow plots to show in the Jupyter Notebook\n",
    "import matplotlib.pyplot as plt\n",
    "%matplotlib inline\n",
    "# Import NumPy and Pandas\n",
    "import numpy as np\n",
    "import pandas as pd\n",
    "from importlib import reload\n",
    "# Auto reloads notebook when changes are made\n",
    "%reload_ext autoreload\n",
    "%autoreload 2"
   ]
  },
  {
   "cell_type": "code",
   "execution_count": null,
   "id": "0c0f2815",
   "metadata": {},
   "outputs": [],
   "source": [
    "def preparePercentageString(value, maxValue):\n",
    "    percentage = round(value/ maxValue, 2) * 100 \n",
    "    return f'{percentage}%'\n",
    "\n",
    "def draw_companions_impact_plot(file_name):\n",
    "    df = pd.read_csv(file_name)\n",
    "    axis_amount = len(df.index)\n",
    "    \n",
    "    alone_and_survived = np.sum((df['Survived'] == 1) & (df['Companions'] == 0))\n",
    "    alone_and_died = axis_amount - alone_and_survived\n",
    "        \n",
    "    accompanied_and_survived = np.sum((df['Survived'] == 1) & (df['Companions'] > 0))\n",
    "    accompanied_and_died = axis_amount - accompanied_and_survived\n",
    "    \n",
    "    died = [alone_and_died, accompanied_and_died]\n",
    "    survived = [alone_and_survived, accompanied_and_survived]\n",
    "    \n",
    "    spc = np.arange(2)\n",
    "    reload(plt)\n",
    "    plt.ylabel(\"Amount of people\", fontsize=18)\n",
    "    plt.rcParams[\"figure.figsize\"] = (18,8)\n",
    "    plt.bar(spc, survived, width=0.45, label='Survived', edgecolor='k')\n",
    "    plt.bar(spc + 0.45, died, width=0.45, label='Died', edgecolor='k')\n",
    "    plt.xticks(spc + 0.45/2, ('Alone', 'Accompanied'), fontsize=18)\n",
    "    plt.legend(loc=2, prop={'size': 20})\n",
    "    plt.title('Impact of Companions on Survival', fontsize=20)\n",
    "    \n",
    "    \n",
    "    for i in range(len(died)):\n",
    "        plt.annotate(preparePercentageString(died[i], axis_amount), xy=(i + 0.45,died[i]), ha='center', va='bottom', fontsize=15)\n",
    "        plt.annotate(preparePercentageString(survived[i], axis_amount), xy=(i ,survived[i]), ha='center', va='bottom', fontsize=15)\n",
    "        \n",
    "draw_companions_impact_plot(\"train_data_results.csv\")"
   ]
  },
  {
   "cell_type": "code",
   "execution_count": null,
   "id": "12b79ed4",
   "metadata": {},
   "outputs": [],
   "source": [
    "draw_companions_impact_plot(\"test-data-results.csv\")"
   ]
  }
 ],
 "metadata": {
  "kernelspec": {
   "display_name": "Python 3 (ipykernel)",
   "language": "python",
   "name": "python3"
  },
  "language_info": {
   "codemirror_mode": {
    "name": "ipython",
    "version": 3
   },
   "file_extension": ".py",
   "mimetype": "text/x-python",
   "name": "python",
   "nbconvert_exporter": "python",
   "pygments_lexer": "ipython3",
   "version": "3.9.12"
  }
 },
 "nbformat": 4,
 "nbformat_minor": 5
}
